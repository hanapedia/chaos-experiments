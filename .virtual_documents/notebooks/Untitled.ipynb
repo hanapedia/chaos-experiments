import csv
import matplotlib.pyplot as plt
import pandas as pd
import numpy as np
import networkx as nx
from pprint import pprint
from collections import defaultdict


! cd ../../



# construct networkx graph,
mpg_path = "./mpg.csv"
digraph = nx.DiGraph()

with open(mpg_path, "r") as f:
    reader = csv.reader(f)
    header = next(reader)
    for line in reader:
        if "db" in line[0] or "db" in line[1]:
            continue
        if "rabbitmq" in line[0] or "rabbitmq" in line[1]:
            continue
        if "queue" in line[0] or "queue" in line[1]:
            continue
        if "node" in line[0] or "node" in line[1]:
            continue
        digraph.add_edge(line[0], line[1])

# calculate pagerank
pagerank = nx.pagerank(digraph)
pprint(pagerank)



! pwd


# trainticket pagerank
trainticket_pr = "../train-ticket/microservice_faults_filtered/pagerank_all_met.csv"

service = []
pr = []
with open(trainticket_pr) as f:
    reader = csv.reader(f)
    for line in reader:
        service.append(line[0])
        pr.append(line[1])
print(service, pr)

plt.bar(service, pr)
plt.xticks(rotation=90)

plt.show()

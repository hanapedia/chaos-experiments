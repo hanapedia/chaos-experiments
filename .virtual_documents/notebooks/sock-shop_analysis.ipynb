import csv
import matplotlib.pyplot as plt
import pandas as pd
import numpy as np
import networkx as nx
from pprint import pprint
from collections import defaultdict


# construct networkx graph,
mpg_path = "../microrca_experiments/experiments/sock-shop/v3-t4/rca/front-end/mpg.csv"
mpg_path = "./data/sock-shop/mpg.csv"
digraph = nx.DiGraph()

with open(mpg_path, "r") as f:
    reader = csv.reader(f)
    header = next(reader)
    for line in reader:
        if "db" in line[2] or "db" in line[1]:
            continue
        if "rabbitmq" in line[2] or "rabbitmq" in line[1]:
            continue
        if "queue" in line[2] or "queue" in line[1]:
            continue
        if "node" in line[2] or "node" in line[1]:
            continue
        digraph.add_edge(line[2], line[1])

digraph = digraph.reverse()


# calculate pagerank
pagerank = nx.pagerank(digraph)
pprint(pagerank)


# create results dict
results_path = "./data/sock-shop/results.csv"
results_dict = {}
with open(results_path, "r") as f:
    reader = csv.reader(f)
    header = next(reader)
    for line in reader:
        results_dict[line[0]] = line[1]
pprint(results_dict)


# calculate service-level characteristics
nodes_attr = dict()
for node in digraph.nodes():
    node_attr = {
        "inward edge": len(digraph.in_edges(node)),
        "outward edge": len(digraph.out_edges(node)),
        "pagerank": pagerank[node],
        "rca rank": results_dict[node], 
        }
    nodes_attr[node] = node_attr
    
pprint(nodes_attr)


# conver to df
df = pd.DataFrame()
df_dict = defaultdict(list)
for node, attr in nodes_attr.items():
    df_dict["service"].append(node)
    df_dict["inward edges"].append(attr["inward edge"])
    df_dict["outward edges"].append(attr["outward edge"])
    df_dict["pagerank"].append(attr["pagerank"])
    df_dict["rca rank"].append(attr["rca rank"])

df = pd.DataFrame.from_dict(df_dict)
pprint(df)


# set node color list
node_colors = []
for node, attr in nodes_attr.items():
    if attr["rca rank"] == "-1":
        node_colors.append("#B33A3A")
    elif attr["rca rank"] == "1":
        node_colors.append("#AFE1AF")
    else:
        node_colors.append("#EED202")

        


# draw network graph
nx.draw_networkx(digraph, pos=nx.nx_pydot.graphviz_layout(digraph, prog='dot'), node_size=900, node_color = node_colors)
plt.show()



plt.scatter(df["pagerank"], df["rca rank"])
plt.show()


sorted_df = df.sort_values(by=["pagerank"])
bar_colors = list(map(lambda x: "#B33A3A" if x == "-1" else ("#AFE1AF" if x == "1" else "#EED202") ,sorted_df["rca rank"]))
print(bar_colors)
plt.bar(sorted_df["service"], sorted_df["pagerank"], color=bar_colors)

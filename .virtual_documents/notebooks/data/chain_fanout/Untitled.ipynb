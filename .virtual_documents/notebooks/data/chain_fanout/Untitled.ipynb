import csv
import matplotlib.pyplot as plt
import pandas as pd
import numpy as np
import networkx as nx
from pprint import pprint
from collections import defaultdict


# construct networkx graph,
mpg_path = "./data/chain_fanout/mpg.csv"
digraph = nx.DiGraph()

with open(mpg_path, "r") as f:
    reader = csv.reader(f)
    header = next(reader)
    for line in reader:
        if "db" in line[2] or "db" in line[1]:
            continue
        if "rabbitmq" in line[2] or "rabbitmq" in line[1]:
            continue
        if "queue" in line[2] or "queue" in line[1]:
            continue
        if "node" in line[2] or "node" in line[1]:
            continue
        digraph.add_edge(line[2], line[1])

digraph = digraph.reverse()
# calculate pagerank
pagerank = nx.pagerank(digraph)
pprint(pagerank)

